{
  "nbformat": 4,
  "nbformat_minor": 0,
  "metadata": {
    "colab": {
      "provenance": [],
      "collapsed_sections": [
        "ayoPSDcZ6U1O",
        "eZJT06498FnU",
        "NDfIRFI7It0P"
      ]
    },
    "kernelspec": {
      "name": "python3",
      "display_name": "Python 3"
    }
  },
  "cells": [
    {
      "cell_type": "code",
      "metadata": {
        "id": "b3YXpWQolqr2",
        "colab": {
          "base_uri": "https://localhost:8080/"
        },
        "outputId": "8b3bd5ba-d0eb-4485-be85-c865ce4bb653"
      },
      "source": [
        "!rm -rf sample_data\n",
        "\n",
        "!wget http://dept-info.labri.fr/~hanna/ProjetClassif/features_adapte.csv\n",
        "!wget http://dept-info.labri.fr/~hanna/ProjetClassif/features_head.csv\n",
        "!wget http://dept-info.labri.fr/~hanna/ProjetClassif/train.csv\n",
        "#Add test.csv ?\n"
      ],
      "execution_count": null,
      "outputs": [
        {
          "output_type": "stream",
          "name": "stdout",
          "text": [
            "URL transformed to HTTPS due to an HSTS policy\n",
            "--2022-12-12 19:28:34--  https://dept-info.labri.fr/~hanna/ProjetClassif/features_adapte.csv\n",
            "Resolving dept-info.labri.fr (dept-info.labri.fr)... 147.210.9.83, 2001:660:6101:404::2:80\n",
            "Connecting to dept-info.labri.fr (dept-info.labri.fr)|147.210.9.83|:443... connected.\n",
            "HTTP request sent, awaiting response... 200 OK\n",
            "Length: 951108530 (907M) [text/csv]\n",
            "Saving to: ‘features_adapte.csv’\n",
            "\n",
            "features_adapte.csv 100%[===================>] 907.05M  28.5MB/s    in 32s     \n",
            "\n",
            "2022-12-12 19:29:07 (28.3 MB/s) - ‘features_adapte.csv’ saved [951108530/951108530]\n",
            "\n",
            "URL transformed to HTTPS due to an HSTS policy\n",
            "--2022-12-12 19:29:07--  https://dept-info.labri.fr/~hanna/ProjetClassif/features_head.csv\n",
            "Resolving dept-info.labri.fr (dept-info.labri.fr)... 147.210.9.83, 2001:660:6101:404::2:80\n",
            "Connecting to dept-info.labri.fr (dept-info.labri.fr)|147.210.9.83|:443... connected.\n",
            "HTTP request sent, awaiting response... 200 OK\n",
            "Length: 19134 (19K) [text/csv]\n",
            "Saving to: ‘features_head.csv’\n",
            "\n",
            "features_head.csv   100%[===================>]  18.69K  --.-KB/s    in 0.1s    \n",
            "\n",
            "2022-12-12 19:29:08 (196 KB/s) - ‘features_head.csv’ saved [19134/19134]\n",
            "\n",
            "URL transformed to HTTPS due to an HSTS policy\n",
            "--2022-12-12 19:29:08--  https://dept-info.labri.fr/~hanna/ProjetClassif/train.csv\n",
            "Resolving dept-info.labri.fr (dept-info.labri.fr)... 147.210.9.83, 2001:660:6101:404::2:80\n",
            "Connecting to dept-info.labri.fr (dept-info.labri.fr)|147.210.9.83|:443... connected.\n",
            "HTTP request sent, awaiting response... 200 OK\n",
            "Length: 35973 (35K) [text/csv]\n",
            "Saving to: ‘train.csv’\n",
            "\n",
            "train.csv           100%[===================>]  35.13K  --.-KB/s    in 0.1s    \n",
            "\n",
            "2022-12-12 19:29:08 (369 KB/s) - ‘train.csv’ saved [35973/35973]\n",
            "\n"
          ]
        }
      ]
    },
    {
      "cell_type": "code",
      "metadata": {
        "id": "LpwgHzz9l4EI",
        "colab": {
          "base_uri": "https://localhost:8080/"
        },
        "outputId": "2f918457-e4a9-4843-e1cc-42a9384ba278"
      },
      "source": [
        "import numpy as np\n",
        "import pandas as pd\n",
        "\n",
        "# Nom des features\n",
        "features = pd.read_csv(filepath_or_buffer=\"features_head.csv\", sep=\",\")\n",
        "#print(features.columns)\n",
        "#print(features)\n",
        "\n",
        "# Jointure features/tracks du dataset train\n",
        "traingenre = pd.read_csv(filepath_or_buffer=\"train.csv\", sep=\",\")\n",
        "\n",
        "iter_csv = pd.read_csv(filepath_or_buffer=\"features_adapte.csv\", sep=\",\", iterator=True, chunksize=10000)\n",
        "datatrain = pd.concat([chunk for chunk in iter_csv])\n",
        "\n",
        "data = pd.merge(traingenre, datatrain, on='track_id')\n",
        "print(data.shape, traingenre.shape, datatrain.shape)\n",
        "\n",
        "# exemple\n",
        "TRACK = 115\n",
        "#print(datatrain.values[TRACK])\n",
        "\n",
        "#training\n",
        "xtrain = data.drop('genre_id',axis=1)\n",
        "ytrain = data['genre_id'].values\n",
        "#testing\n",
        "print(xtrain.shape)\n",
        "print(ytrain.shape)"
      ],
      "execution_count": null,
      "outputs": [
        {
          "output_type": "stream",
          "name": "stdout",
          "text": [
            "(3995, 520) (3995, 2) (106574, 519)\n",
            "(3995, 519)\n",
            "(3995,)\n"
          ]
        }
      ]
    },
    {
      "cell_type": "code",
      "source": [
        "testgenre = pd.read_csv(filepath_or_buffer=\"test_clean.csv\", sep=\",\")\n",
        "data_test = pd.merge(testgenre, datatrain, on='track_id')\n",
        "xtest = data_test\n",
        "print(xtest.shape)\n"
      ],
      "metadata": {
        "id": "n-B50auHEpIw",
        "colab": {
          "base_uri": "https://localhost:8080/"
        },
        "outputId": "803c8143-b4d1-4810-c070-cf0f02d301b5"
      },
      "execution_count": null,
      "outputs": [
        {
          "output_type": "stream",
          "name": "stdout",
          "text": [
            "(4008, 519)\n"
          ]
        }
      ]
    },
    {
      "cell_type": "markdown",
      "source": [
        "## **Catboost**"
      ],
      "metadata": {
        "id": "ayoPSDcZ6U1O"
      }
    },
    {
      "cell_type": "code",
      "source": [
        "!pip install catboost"
      ],
      "metadata": {
        "colab": {
          "base_uri": "https://localhost:8080/"
        },
        "id": "qZyJYKC0v2Va",
        "outputId": "e16d599e-6022-4087-bc4d-0f2812dbe98e"
      },
      "execution_count": null,
      "outputs": [
        {
          "output_type": "stream",
          "name": "stdout",
          "text": [
            "Looking in indexes: https://pypi.org/simple, https://us-python.pkg.dev/colab-wheels/public/simple/\n",
            "Collecting catboost\n",
            "  Downloading catboost-1.1.1-cp38-none-manylinux1_x86_64.whl (76.6 MB)\n",
            "\u001b[K     |████████████████████████████████| 76.6 MB 18.0 MB/s \n",
            "\u001b[?25hRequirement already satisfied: pandas>=0.24.0 in /usr/local/lib/python3.8/dist-packages (from catboost) (1.3.5)\n",
            "Requirement already satisfied: graphviz in /usr/local/lib/python3.8/dist-packages (from catboost) (0.10.1)\n",
            "Requirement already satisfied: scipy in /usr/local/lib/python3.8/dist-packages (from catboost) (1.7.3)\n",
            "Requirement already satisfied: plotly in /usr/local/lib/python3.8/dist-packages (from catboost) (5.5.0)\n",
            "Requirement already satisfied: six in /usr/local/lib/python3.8/dist-packages (from catboost) (1.15.0)\n",
            "Requirement already satisfied: matplotlib in /usr/local/lib/python3.8/dist-packages (from catboost) (3.2.2)\n",
            "Requirement already satisfied: numpy>=1.16.0 in /usr/local/lib/python3.8/dist-packages (from catboost) (1.21.6)\n",
            "Requirement already satisfied: pytz>=2017.3 in /usr/local/lib/python3.8/dist-packages (from pandas>=0.24.0->catboost) (2022.6)\n",
            "Requirement already satisfied: python-dateutil>=2.7.3 in /usr/local/lib/python3.8/dist-packages (from pandas>=0.24.0->catboost) (2.8.2)\n",
            "Requirement already satisfied: pyparsing!=2.0.4,!=2.1.2,!=2.1.6,>=2.0.1 in /usr/local/lib/python3.8/dist-packages (from matplotlib->catboost) (3.0.9)\n",
            "Requirement already satisfied: cycler>=0.10 in /usr/local/lib/python3.8/dist-packages (from matplotlib->catboost) (0.11.0)\n",
            "Requirement already satisfied: kiwisolver>=1.0.1 in /usr/local/lib/python3.8/dist-packages (from matplotlib->catboost) (1.4.4)\n",
            "Requirement already satisfied: tenacity>=6.2.0 in /usr/local/lib/python3.8/dist-packages (from plotly->catboost) (8.1.0)\n",
            "Installing collected packages: catboost\n",
            "Successfully installed catboost-1.1.1\n"
          ]
        }
      ]
    },
    {
      "cell_type": "code",
      "source": [
        "import catboost as cb\n",
        "from sklearn.model_selection import train_test_split\n",
        "from sklearn import metrics\n",
        "import matplotlib.pyplot as plt\n",
        "import seaborn as sns\n",
        "from sklearn.metrics import accuracy_score"
      ],
      "metadata": {
        "id": "286KKPX4rdqE"
      },
      "execution_count": null,
      "outputs": []
    },
    {
      "cell_type": "markdown",
      "source": [
        "In order to train and optimize our model, we need to utilize CatBoost library integrated tool for combining features and target variables into a train and test dataset. "
      ],
      "metadata": {
        "id": "8MqNGzG_xS08"
      }
    },
    {
      "cell_type": "markdown",
      "source": [
        "Our loss function:"
      ],
      "metadata": {
        "id": "KtXF4NrFytK7"
      }
    },
    {
      "cell_type": "code",
      "source": [
        "model = cb.CatBoostRegressor(\n",
        "    loss_function = 'MAE',\n",
        "    eval_metric = 'RMSE')"
      ],
      "metadata": {
        "id": "XTnvGbKbw2Gu"
      },
      "execution_count": null,
      "outputs": []
    },
    {
      "cell_type": "code",
      "source": [
        "model.fit(xtrain, ytrain)"
      ],
      "metadata": {
        "colab": {
          "base_uri": "https://localhost:8080/"
        },
        "id": "aoVCNh_HxhDf",
        "outputId": "7e93a3a1-7e98-475c-b23f-5c32fdd17d60"
      },
      "execution_count": null,
      "outputs": [
        {
          "output_type": "stream",
          "name": "stdout",
          "text": [
            "0:\tlearn: 2.3212791\ttotal: 241ms\tremaining: 48s\n",
            "1:\tlearn: 2.2926987\ttotal: 371ms\tremaining: 36.7s\n",
            "2:\tlearn: 2.2615290\ttotal: 507ms\tremaining: 33.3s\n",
            "3:\tlearn: 2.2345875\ttotal: 640ms\tremaining: 31.4s\n",
            "4:\tlearn: 2.2099221\ttotal: 778ms\tremaining: 30.3s\n",
            "5:\tlearn: 2.1890675\ttotal: 924ms\tremaining: 29.9s\n",
            "6:\tlearn: 2.1669122\ttotal: 1.07s\tremaining: 29.5s\n",
            "7:\tlearn: 2.1457414\ttotal: 1.21s\tremaining: 29.1s\n",
            "8:\tlearn: 2.1238163\ttotal: 1.36s\tremaining: 28.9s\n",
            "9:\tlearn: 2.1056727\ttotal: 1.5s\tremaining: 28.4s\n",
            "10:\tlearn: 2.0852615\ttotal: 1.65s\tremaining: 28.3s\n",
            "11:\tlearn: 2.0669159\ttotal: 1.81s\tremaining: 28.3s\n",
            "12:\tlearn: 2.0469586\ttotal: 1.96s\tremaining: 28.2s\n",
            "13:\tlearn: 2.0296248\ttotal: 2.1s\tremaining: 28s\n",
            "14:\tlearn: 2.0136688\ttotal: 2.25s\tremaining: 27.8s\n",
            "15:\tlearn: 1.9980529\ttotal: 2.38s\tremaining: 27.4s\n",
            "16:\tlearn: 1.9842444\ttotal: 2.53s\tremaining: 27.2s\n",
            "17:\tlearn: 1.9716256\ttotal: 2.66s\tremaining: 26.9s\n",
            "18:\tlearn: 1.9575616\ttotal: 2.8s\tremaining: 26.7s\n",
            "19:\tlearn: 1.9456889\ttotal: 2.93s\tremaining: 26.4s\n",
            "20:\tlearn: 1.9356070\ttotal: 3.07s\tremaining: 26.1s\n",
            "21:\tlearn: 1.9229288\ttotal: 3.22s\tremaining: 26.1s\n",
            "22:\tlearn: 1.9106578\ttotal: 3.38s\tremaining: 26s\n",
            "23:\tlearn: 1.8997577\ttotal: 3.51s\tremaining: 25.8s\n",
            "24:\tlearn: 1.8902321\ttotal: 3.67s\tremaining: 25.7s\n",
            "25:\tlearn: 1.8797501\ttotal: 3.8s\tremaining: 25.4s\n",
            "26:\tlearn: 1.8702056\ttotal: 3.96s\tremaining: 25.4s\n",
            "27:\tlearn: 1.8621607\ttotal: 4.09s\tremaining: 25.1s\n",
            "28:\tlearn: 1.8540730\ttotal: 4.23s\tremaining: 24.9s\n",
            "29:\tlearn: 1.8449603\ttotal: 4.38s\tremaining: 24.8s\n",
            "30:\tlearn: 1.8371511\ttotal: 4.51s\tremaining: 24.6s\n",
            "31:\tlearn: 1.8294283\ttotal: 4.64s\tremaining: 24.4s\n",
            "32:\tlearn: 1.8237262\ttotal: 4.78s\tremaining: 24.2s\n",
            "33:\tlearn: 1.8170633\ttotal: 4.91s\tremaining: 24s\n",
            "34:\tlearn: 1.8096956\ttotal: 5.05s\tremaining: 23.8s\n",
            "35:\tlearn: 1.8032369\ttotal: 5.19s\tremaining: 23.6s\n",
            "36:\tlearn: 1.7983918\ttotal: 5.33s\tremaining: 23.5s\n",
            "37:\tlearn: 1.7926833\ttotal: 5.47s\tremaining: 23.3s\n",
            "38:\tlearn: 1.7885057\ttotal: 5.62s\tremaining: 23.2s\n",
            "39:\tlearn: 1.7833018\ttotal: 5.75s\tremaining: 23s\n",
            "40:\tlearn: 1.7781826\ttotal: 5.9s\tremaining: 22.9s\n",
            "41:\tlearn: 1.7739549\ttotal: 6.04s\tremaining: 22.7s\n",
            "42:\tlearn: 1.7684629\ttotal: 6.17s\tremaining: 22.5s\n",
            "43:\tlearn: 1.7640316\ttotal: 6.33s\tremaining: 22.4s\n",
            "44:\tlearn: 1.7601074\ttotal: 6.48s\tremaining: 22.3s\n",
            "45:\tlearn: 1.7570090\ttotal: 6.61s\tremaining: 22.1s\n",
            "46:\tlearn: 1.7527979\ttotal: 6.75s\tremaining: 22s\n",
            "47:\tlearn: 1.7498694\ttotal: 6.88s\tremaining: 21.8s\n",
            "48:\tlearn: 1.7463967\ttotal: 7.01s\tremaining: 21.6s\n",
            "49:\tlearn: 1.7435623\ttotal: 7.14s\tremaining: 21.4s\n",
            "50:\tlearn: 1.7414446\ttotal: 7.28s\tremaining: 21.3s\n",
            "51:\tlearn: 1.7362275\ttotal: 7.44s\tremaining: 21.2s\n",
            "52:\tlearn: 1.7320709\ttotal: 7.58s\tremaining: 21s\n",
            "53:\tlearn: 1.7296695\ttotal: 7.72s\tremaining: 20.9s\n",
            "54:\tlearn: 1.7272920\ttotal: 7.86s\tremaining: 20.7s\n",
            "55:\tlearn: 1.7250497\ttotal: 8s\tremaining: 20.6s\n",
            "56:\tlearn: 1.7224049\ttotal: 8.13s\tremaining: 20.4s\n",
            "57:\tlearn: 1.7197890\ttotal: 8.28s\tremaining: 20.3s\n",
            "58:\tlearn: 1.7175225\ttotal: 8.44s\tremaining: 20.2s\n",
            "59:\tlearn: 1.7154453\ttotal: 8.57s\tremaining: 20s\n",
            "60:\tlearn: 1.7131665\ttotal: 8.71s\tremaining: 19.8s\n",
            "61:\tlearn: 1.7101994\ttotal: 8.86s\tremaining: 19.7s\n",
            "62:\tlearn: 1.7075333\ttotal: 9s\tremaining: 19.6s\n",
            "63:\tlearn: 1.7051243\ttotal: 9.13s\tremaining: 19.4s\n",
            "64:\tlearn: 1.7032353\ttotal: 9.27s\tremaining: 19.3s\n",
            "65:\tlearn: 1.7019079\ttotal: 9.4s\tremaining: 19.1s\n",
            "66:\tlearn: 1.6999531\ttotal: 9.57s\tremaining: 19s\n",
            "67:\tlearn: 1.6975280\ttotal: 9.7s\tremaining: 18.8s\n",
            "68:\tlearn: 1.6957327\ttotal: 9.84s\tremaining: 18.7s\n",
            "69:\tlearn: 1.6934510\ttotal: 9.98s\tremaining: 18.5s\n",
            "70:\tlearn: 1.6923480\ttotal: 10.1s\tremaining: 18.4s\n",
            "71:\tlearn: 1.6906335\ttotal: 10.3s\tremaining: 18.3s\n",
            "72:\tlearn: 1.6896701\ttotal: 10.4s\tremaining: 18.1s\n",
            "73:\tlearn: 1.6881669\ttotal: 10.6s\tremaining: 18s\n",
            "74:\tlearn: 1.6870811\ttotal: 10.7s\tremaining: 17.9s\n",
            "75:\tlearn: 1.6856152\ttotal: 10.8s\tremaining: 17.7s\n",
            "76:\tlearn: 1.6838888\ttotal: 11s\tremaining: 17.6s\n",
            "77:\tlearn: 1.6826817\ttotal: 11.1s\tremaining: 17.4s\n",
            "78:\tlearn: 1.6810563\ttotal: 11.3s\tremaining: 17.3s\n",
            "79:\tlearn: 1.6792775\ttotal: 11.4s\tremaining: 17.1s\n",
            "80:\tlearn: 1.6773314\ttotal: 11.6s\tremaining: 17s\n",
            "81:\tlearn: 1.6758786\ttotal: 11.7s\tremaining: 16.9s\n",
            "82:\tlearn: 1.6749390\ttotal: 11.8s\tremaining: 16.7s\n",
            "83:\tlearn: 1.6744835\ttotal: 12s\tremaining: 16.6s\n",
            "84:\tlearn: 1.6728093\ttotal: 12.1s\tremaining: 16.4s\n",
            "85:\tlearn: 1.6715929\ttotal: 12.3s\tremaining: 16.3s\n",
            "86:\tlearn: 1.6700346\ttotal: 12.4s\tremaining: 16.1s\n",
            "87:\tlearn: 1.6691463\ttotal: 12.5s\tremaining: 16s\n",
            "88:\tlearn: 1.6673833\ttotal: 12.7s\tremaining: 15.8s\n",
            "89:\tlearn: 1.6666917\ttotal: 12.8s\tremaining: 15.7s\n",
            "90:\tlearn: 1.6653100\ttotal: 13s\tremaining: 15.5s\n",
            "91:\tlearn: 1.6644724\ttotal: 13.1s\tremaining: 15.4s\n",
            "92:\tlearn: 1.6635146\ttotal: 13.3s\tremaining: 15.3s\n",
            "93:\tlearn: 1.6629546\ttotal: 13.4s\tremaining: 15.1s\n",
            "94:\tlearn: 1.6618398\ttotal: 13.5s\tremaining: 15s\n",
            "95:\tlearn: 1.6606616\ttotal: 13.7s\tremaining: 14.8s\n",
            "96:\tlearn: 1.6594080\ttotal: 13.8s\tremaining: 14.7s\n",
            "97:\tlearn: 1.6581852\ttotal: 14s\tremaining: 14.5s\n",
            "98:\tlearn: 1.6574129\ttotal: 14.1s\tremaining: 14.4s\n",
            "99:\tlearn: 1.6557013\ttotal: 14.3s\tremaining: 14.3s\n",
            "100:\tlearn: 1.6548342\ttotal: 14.4s\tremaining: 14.1s\n",
            "101:\tlearn: 1.6537903\ttotal: 14.5s\tremaining: 14s\n",
            "102:\tlearn: 1.6525171\ttotal: 14.7s\tremaining: 13.8s\n",
            "103:\tlearn: 1.6515226\ttotal: 14.8s\tremaining: 13.7s\n",
            "104:\tlearn: 1.6507381\ttotal: 15.1s\tremaining: 13.6s\n",
            "105:\tlearn: 1.6492571\ttotal: 15.2s\tremaining: 13.5s\n",
            "106:\tlearn: 1.6478367\ttotal: 15.4s\tremaining: 13.4s\n",
            "107:\tlearn: 1.6468195\ttotal: 15.5s\tremaining: 13.2s\n",
            "108:\tlearn: 1.6460419\ttotal: 15.7s\tremaining: 13.1s\n",
            "109:\tlearn: 1.6452188\ttotal: 15.8s\tremaining: 12.9s\n",
            "110:\tlearn: 1.6443894\ttotal: 15.9s\tremaining: 12.8s\n",
            "111:\tlearn: 1.6432416\ttotal: 16.1s\tremaining: 12.6s\n",
            "112:\tlearn: 1.6411110\ttotal: 16.2s\tremaining: 12.5s\n",
            "113:\tlearn: 1.6395646\ttotal: 16.4s\tremaining: 12.3s\n",
            "114:\tlearn: 1.6382654\ttotal: 16.5s\tremaining: 12.2s\n",
            "115:\tlearn: 1.6367099\ttotal: 16.6s\tremaining: 12s\n",
            "116:\tlearn: 1.6355399\ttotal: 16.8s\tremaining: 11.9s\n",
            "117:\tlearn: 1.6347755\ttotal: 16.9s\tremaining: 11.8s\n",
            "118:\tlearn: 1.6333472\ttotal: 17.1s\tremaining: 11.6s\n",
            "119:\tlearn: 1.6314834\ttotal: 17.2s\tremaining: 11.5s\n",
            "120:\tlearn: 1.6307095\ttotal: 17.3s\tremaining: 11.3s\n",
            "121:\tlearn: 1.6296198\ttotal: 17.5s\tremaining: 11.2s\n",
            "122:\tlearn: 1.6279444\ttotal: 17.6s\tremaining: 11s\n",
            "123:\tlearn: 1.6271557\ttotal: 17.8s\tremaining: 10.9s\n",
            "124:\tlearn: 1.6259947\ttotal: 17.9s\tremaining: 10.7s\n",
            "125:\tlearn: 1.6252777\ttotal: 18s\tremaining: 10.6s\n",
            "126:\tlearn: 1.6244881\ttotal: 18.2s\tremaining: 10.5s\n",
            "127:\tlearn: 1.6236382\ttotal: 18.3s\tremaining: 10.3s\n",
            "128:\tlearn: 1.6226439\ttotal: 18.5s\tremaining: 10.2s\n",
            "129:\tlearn: 1.6217988\ttotal: 18.6s\tremaining: 10s\n",
            "130:\tlearn: 1.6199546\ttotal: 18.8s\tremaining: 9.88s\n",
            "131:\tlearn: 1.6189815\ttotal: 18.9s\tremaining: 9.73s\n",
            "132:\tlearn: 1.6181558\ttotal: 19s\tremaining: 9.59s\n",
            "133:\tlearn: 1.6175244\ttotal: 19.2s\tremaining: 9.44s\n",
            "134:\tlearn: 1.6161565\ttotal: 19.3s\tremaining: 9.3s\n",
            "135:\tlearn: 1.6147672\ttotal: 19.4s\tremaining: 9.15s\n",
            "136:\tlearn: 1.6139606\ttotal: 19.6s\tremaining: 9.01s\n",
            "137:\tlearn: 1.6129099\ttotal: 19.7s\tremaining: 8.86s\n",
            "138:\tlearn: 1.6122275\ttotal: 19.9s\tremaining: 8.72s\n",
            "139:\tlearn: 1.6113278\ttotal: 20s\tremaining: 8.57s\n",
            "140:\tlearn: 1.6106759\ttotal: 20.1s\tremaining: 8.43s\n",
            "141:\tlearn: 1.6096872\ttotal: 20.3s\tremaining: 8.28s\n",
            "142:\tlearn: 1.6089530\ttotal: 20.4s\tremaining: 8.14s\n",
            "143:\tlearn: 1.6075648\ttotal: 20.5s\tremaining: 7.99s\n",
            "144:\tlearn: 1.6058172\ttotal: 20.7s\tremaining: 7.84s\n",
            "145:\tlearn: 1.6053962\ttotal: 20.8s\tremaining: 7.71s\n",
            "146:\tlearn: 1.6043741\ttotal: 21s\tremaining: 7.56s\n",
            "147:\tlearn: 1.6034639\ttotal: 21.1s\tremaining: 7.41s\n",
            "148:\tlearn: 1.6023416\ttotal: 21.2s\tremaining: 7.27s\n",
            "149:\tlearn: 1.6014330\ttotal: 21.4s\tremaining: 7.13s\n",
            "150:\tlearn: 1.6005455\ttotal: 21.5s\tremaining: 6.98s\n",
            "151:\tlearn: 1.5999266\ttotal: 21.7s\tremaining: 6.84s\n",
            "152:\tlearn: 1.5993938\ttotal: 21.8s\tremaining: 6.7s\n",
            "153:\tlearn: 1.5982720\ttotal: 21.9s\tremaining: 6.55s\n",
            "154:\tlearn: 1.5970626\ttotal: 22.1s\tremaining: 6.41s\n",
            "155:\tlearn: 1.5964153\ttotal: 22.2s\tremaining: 6.27s\n",
            "156:\tlearn: 1.5956048\ttotal: 22.4s\tremaining: 6.13s\n",
            "157:\tlearn: 1.5946736\ttotal: 22.5s\tremaining: 5.98s\n",
            "158:\tlearn: 1.5941148\ttotal: 22.6s\tremaining: 5.84s\n",
            "159:\tlearn: 1.5927733\ttotal: 22.8s\tremaining: 5.69s\n",
            "160:\tlearn: 1.5919742\ttotal: 22.9s\tremaining: 5.55s\n",
            "161:\tlearn: 1.5908316\ttotal: 23.1s\tremaining: 5.41s\n",
            "162:\tlearn: 1.5898773\ttotal: 23.2s\tremaining: 5.27s\n",
            "163:\tlearn: 1.5888004\ttotal: 23.4s\tremaining: 5.13s\n",
            "164:\tlearn: 1.5880189\ttotal: 23.5s\tremaining: 4.99s\n",
            "165:\tlearn: 1.5866588\ttotal: 23.6s\tremaining: 4.84s\n",
            "166:\tlearn: 1.5856231\ttotal: 23.8s\tremaining: 4.7s\n",
            "167:\tlearn: 1.5846247\ttotal: 23.9s\tremaining: 4.56s\n",
            "168:\tlearn: 1.5837661\ttotal: 24.1s\tremaining: 4.42s\n",
            "169:\tlearn: 1.5830208\ttotal: 24.3s\tremaining: 4.28s\n",
            "170:\tlearn: 1.5823500\ttotal: 24.4s\tremaining: 4.14s\n",
            "171:\tlearn: 1.5813529\ttotal: 24.5s\tremaining: 4s\n",
            "172:\tlearn: 1.5799545\ttotal: 24.7s\tremaining: 3.85s\n",
            "173:\tlearn: 1.5783653\ttotal: 24.8s\tremaining: 3.71s\n",
            "174:\tlearn: 1.5775905\ttotal: 25s\tremaining: 3.56s\n",
            "175:\tlearn: 1.5767737\ttotal: 25.1s\tremaining: 3.42s\n",
            "176:\tlearn: 1.5753547\ttotal: 25.2s\tremaining: 3.28s\n",
            "177:\tlearn: 1.5742906\ttotal: 25.4s\tremaining: 3.14s\n",
            "178:\tlearn: 1.5733517\ttotal: 25.5s\tremaining: 2.99s\n",
            "179:\tlearn: 1.5723427\ttotal: 25.7s\tremaining: 2.85s\n",
            "180:\tlearn: 1.5717282\ttotal: 25.8s\tremaining: 2.71s\n",
            "181:\tlearn: 1.5708840\ttotal: 25.9s\tremaining: 2.57s\n",
            "182:\tlearn: 1.5703244\ttotal: 26.1s\tremaining: 2.42s\n",
            "183:\tlearn: 1.5695907\ttotal: 26.2s\tremaining: 2.28s\n",
            "184:\tlearn: 1.5687546\ttotal: 26.4s\tremaining: 2.14s\n",
            "185:\tlearn: 1.5679758\ttotal: 26.5s\tremaining: 1.99s\n",
            "186:\tlearn: 1.5669807\ttotal: 26.6s\tremaining: 1.85s\n",
            "187:\tlearn: 1.5661126\ttotal: 26.8s\tremaining: 1.71s\n",
            "188:\tlearn: 1.5648839\ttotal: 26.9s\tremaining: 1.56s\n",
            "189:\tlearn: 1.5641977\ttotal: 27s\tremaining: 1.42s\n",
            "190:\tlearn: 1.5636151\ttotal: 27.2s\tremaining: 1.28s\n",
            "191:\tlearn: 1.5628745\ttotal: 27.3s\tremaining: 1.14s\n",
            "192:\tlearn: 1.5622004\ttotal: 27.5s\tremaining: 996ms\n",
            "193:\tlearn: 1.5610435\ttotal: 27.6s\tremaining: 853ms\n",
            "194:\tlearn: 1.5605134\ttotal: 27.7s\tremaining: 711ms\n",
            "195:\tlearn: 1.5599607\ttotal: 27.9s\tremaining: 569ms\n",
            "196:\tlearn: 1.5592994\ttotal: 28s\tremaining: 427ms\n",
            "197:\tlearn: 1.5584085\ttotal: 28.2s\tremaining: 284ms\n",
            "198:\tlearn: 1.5580378\ttotal: 28.3s\tremaining: 142ms\n",
            "199:\tlearn: 1.5574838\ttotal: 28.4s\tremaining: 0us\n"
          ]
        },
        {
          "output_type": "execute_result",
          "data": {
            "text/plain": [
              "<catboost.core.CatBoostRegressor at 0x7f452af64940>"
            ]
          },
          "metadata": {},
          "execution_count": 42
        }
      ]
    },
    {
      "cell_type": "code",
      "source": [
        "predicted_y = model.predict(xtest)\n",
        "predictions = [round(value) for value in predicted_y]"
      ],
      "metadata": {
        "id": "zkuQSdtTzB6X"
      },
      "execution_count": null,
      "outputs": []
    },
    {
      "cell_type": "code",
      "source": [
        "testgenre = np.array(testgenre)\n",
        "predictions = np.array(predictions)\n",
        "gn = []\n",
        "for i in testgenre:\n",
        "    gn.append(i[0])\n",
        "print(len(gn))\n",
        "print(predictions.shape)\n",
        "\n",
        "dataset = pd.DataFrame({'track_id': gn, 'genre_id': predictions}, columns=['track_id', 'genre_id'])\n",
        "print(dataset.head())\n",
        "dataset.to_csv(\"res_catboost2.csv\",index=False)"
      ],
      "metadata": {
        "colab": {
          "base_uri": "https://localhost:8080/"
        },
        "id": "qtQU5sKdGLK9",
        "outputId": "339f9cf2-85fa-41ae-8a6a-7624c379bd06"
      },
      "execution_count": null,
      "outputs": [
        {
          "output_type": "stream",
          "name": "stdout",
          "text": [
            "4008\n",
            "(4008,)\n",
            "   track_id  genre_id\n",
            "0        10         7\n",
            "1       141         4\n",
            "2       190         4\n",
            "3       193         4\n",
            "4       194         4\n"
          ]
        }
      ]
    },
    {
      "cell_type": "markdown",
      "source": [
        "## **xgboost**"
      ],
      "metadata": {
        "id": "HwStqBqN6ZHr"
      }
    },
    {
      "cell_type": "code",
      "source": [
        "import xgboost as xgb\n",
        "from sklearn.metrics import accuracy_score\n",
        "from xgboost import XGBClassifier"
      ],
      "metadata": {
        "id": "p5qpszU-45ae"
      },
      "execution_count": null,
      "outputs": []
    },
    {
      "cell_type": "code",
      "source": [
        "model = XGBClassifier()\n",
        "model.fit(xtrain, ytrain)"
      ],
      "metadata": {
        "colab": {
          "base_uri": "https://localhost:8080/"
        },
        "id": "km5sQn9q7OvB",
        "outputId": "98bd71e8-36c2-4245-a599-a15f70545dab"
      },
      "execution_count": null,
      "outputs": [
        {
          "output_type": "execute_result",
          "data": {
            "text/plain": [
              "XGBClassifier(objective='multi:softprob')"
            ]
          },
          "metadata": {},
          "execution_count": 5
        }
      ]
    },
    {
      "cell_type": "code",
      "source": [
        "predicted_y = model.predict(xtest)\n",
        "print(predicted_y.shape)\n",
        "predictions = [round(value) for value in predicted_y]"
      ],
      "metadata": {
        "id": "RQ3mv8To7jk3",
        "colab": {
          "base_uri": "https://localhost:8080/"
        },
        "outputId": "d6f335d6-77cd-45da-ce30-c723cdfca34e"
      },
      "execution_count": null,
      "outputs": [
        {
          "output_type": "stream",
          "name": "stdout",
          "text": [
            "(4008,)\n"
          ]
        }
      ]
    },
    {
      "cell_type": "code",
      "source": [
        "#accuracy = accuracy_score(y_test, predictions)\n",
        "#print(\"Accuracy: %.2f%%\" % (accuracy * 100.0))"
      ],
      "metadata": {
        "colab": {
          "base_uri": "https://localhost:8080/"
        },
        "id": "9D0fBqqt77m1",
        "outputId": "61949d35-0843-4ac5-823b-e7de28e04a06"
      },
      "execution_count": null,
      "outputs": [
        {
          "output_type": "stream",
          "name": "stdout",
          "text": [
            "Accuracy: 61.87%\n"
          ]
        }
      ]
    },
    {
      "cell_type": "code",
      "source": [
        "testgenre = np.array(testgenre)\n",
        "predictions = np.array(predictions)\n",
        "\n",
        "gn = []\n",
        "for i in testgenre:\n",
        "    gn.append(i[0])\n",
        "print(len(gn))\n",
        "print(predictions.shape)\n",
        "\n",
        "dataset = pd.DataFrame({'track_id': gn, 'genre_id': predictions}, columns=['track_id', 'genre_id'])\n",
        "print(dataset.head())\n",
        "dataset.to_csv(\"res_xgboost3.csv\",index=False)"
      ],
      "metadata": {
        "colab": {
          "base_uri": "https://localhost:8080/"
        },
        "id": "aB4yQY9pzgtK",
        "outputId": "6872cc8d-b4bf-40d4-9bf5-fec192eab494"
      },
      "execution_count": null,
      "outputs": [
        {
          "output_type": "stream",
          "name": "stdout",
          "text": [
            "4008\n",
            "(4008,)\n",
            "   track_id  genre_id\n",
            "0        10         8\n",
            "1       141         3\n",
            "2       190         3\n",
            "3       193         3\n",
            "4       194         3\n"
          ]
        }
      ]
    },
    {
      "cell_type": "markdown",
      "source": [
        "## **lightgbm**"
      ],
      "metadata": {
        "id": "eZJT06498FnU"
      }
    },
    {
      "cell_type": "code",
      "source": [
        "import lightgbm as lgb"
      ],
      "metadata": {
        "id": "XmITVNy28d2a"
      },
      "execution_count": null,
      "outputs": []
    },
    {
      "cell_type": "code",
      "source": [
        "clf = lgb.LGBMClassifier()\n",
        "clf.fit(xtrain, ytrain)"
      ],
      "metadata": {
        "colab": {
          "base_uri": "https://localhost:8080/"
        },
        "id": "IQT5p9Jl8jdc",
        "outputId": "728038de-0e80-4616-c2fe-a49b6d88d256"
      },
      "execution_count": null,
      "outputs": [
        {
          "output_type": "execute_result",
          "data": {
            "text/plain": [
              "LGBMClassifier()"
            ]
          },
          "metadata": {},
          "execution_count": 9
        }
      ]
    },
    {
      "cell_type": "code",
      "source": [
        "predicted_y=clf.predict(xtest)\n",
        "predictions = [round(value) for value in predicted_y]"
      ],
      "metadata": {
        "id": "eqrloAYx8naO"
      },
      "execution_count": null,
      "outputs": []
    },
    {
      "cell_type": "code",
      "source": [
        "#accuracy = accuracy_score(y_test, predictions)\n",
        "#print(\"Accuracy: %.2f%%\" % (accuracy * 100.0))"
      ],
      "metadata": {
        "colab": {
          "base_uri": "https://localhost:8080/"
        },
        "id": "H1URYvAw8uD2",
        "outputId": "1135ef99-6e8c-4dc4-e607-704c10d3e9b8"
      },
      "execution_count": null,
      "outputs": [
        {
          "output_type": "stream",
          "name": "stdout",
          "text": [
            "Accuracy: 62.70%\n"
          ]
        }
      ]
    },
    {
      "cell_type": "code",
      "source": [
        "testgenre = np.array(testgenre)\n",
        "predictions = np.array(predictions)\n",
        "\n",
        "gn = []\n",
        "for i in testgenre:\n",
        "    gn.append(i[0])\n",
        "print(len(gn))\n",
        "print(predictions.shape)\n",
        "\n",
        "dataset = pd.DataFrame({'track_id': gn, 'genre_id': predictions}, columns=['track_id', 'genre_id'])\n",
        "print(dataset.head())\n",
        "dataset.to_csv(\"res_lightgbm1.csv\",index=False)"
      ],
      "metadata": {
        "colab": {
          "base_uri": "https://localhost:8080/"
        },
        "id": "OhKYeZaA88qn",
        "outputId": "8fbf4d18-653a-4783-eac1-1fed81cfa67b"
      },
      "execution_count": null,
      "outputs": [
        {
          "output_type": "stream",
          "name": "stdout",
          "text": [
            "4008\n",
            "(4008,)\n",
            "   track_id  genre_id\n",
            "0        10         8\n",
            "1       141         3\n",
            "2       190         3\n",
            "3       193         3\n",
            "4       194         3\n"
          ]
        }
      ]
    },
    {
      "cell_type": "markdown",
      "source": [
        "## **Random Forest**"
      ],
      "metadata": {
        "id": "NAqiyo3RBcZE"
      }
    },
    {
      "cell_type": "code",
      "source": [
        "from sklearn import datasets\n",
        "from sklearn.ensemble import RandomForestClassifier"
      ],
      "metadata": {
        "id": "UUolJARS6F0n"
      },
      "execution_count": null,
      "outputs": []
    },
    {
      "cell_type": "code",
      "source": [
        "model=RandomForestClassifier(n_estimators=100)\n",
        "model.fit(xtrain,ytrain)"
      ],
      "metadata": {
        "id": "xgFg1EqUCRml",
        "colab": {
          "base_uri": "https://localhost:8080/"
        },
        "outputId": "802bc48c-3d0b-4b0d-c62c-26836e215cbb"
      },
      "execution_count": null,
      "outputs": [
        {
          "output_type": "execute_result",
          "data": {
            "text/plain": [
              "RandomForestClassifier()"
            ]
          },
          "metadata": {},
          "execution_count": 5
        }
      ]
    },
    {
      "cell_type": "code",
      "source": [
        "predicted_y=model.predict(xtest)\n",
        "predictions = [round(value) for value in predicted_y]"
      ],
      "metadata": {
        "id": "K_BHQ6viCyZ9"
      },
      "execution_count": null,
      "outputs": []
    },
    {
      "cell_type": "code",
      "source": [
        "testgenre = np.array(testgenre)\n",
        "predictions = np.array(predictions)\n",
        "\n",
        "gn = []\n",
        "for i in testgenre:\n",
        "    gn.append(i[0])\n",
        "print(len(gn))\n",
        "print(predictions.shape)\n",
        "\n",
        "dataset = pd.DataFrame({'track_id': gn, 'genre_id': predictions}, columns=['track_id', 'genre_id'])\n",
        "print(dataset.head())\n",
        "dataset.to_csv(\"res_randomforest2.csv\",index=False)"
      ],
      "metadata": {
        "colab": {
          "base_uri": "https://localhost:8080/"
        },
        "id": "N4mTCsWQC9RE",
        "outputId": "f2622163-225f-4fb1-a331-4f8bc22bb784"
      },
      "execution_count": null,
      "outputs": [
        {
          "output_type": "stream",
          "name": "stdout",
          "text": [
            "4008\n",
            "(4008,)\n",
            "   track_id  genre_id\n",
            "0        10         8\n",
            "1       141         3\n",
            "2       190         5\n",
            "3       193         3\n",
            "4       194         3\n"
          ]
        }
      ]
    },
    {
      "cell_type": "markdown",
      "source": [
        "## **Bayes**"
      ],
      "metadata": {
        "id": "MnGSE6kSGDsI"
      }
    },
    {
      "cell_type": "code",
      "source": [
        "from sklearn.naive_bayes import GaussianNB"
      ],
      "metadata": {
        "id": "zpM9lQxRDGKI"
      },
      "execution_count": null,
      "outputs": []
    },
    {
      "cell_type": "code",
      "source": [
        "model = GaussianNB()\n",
        "model.fit(xtrain, ytrain)"
      ],
      "metadata": {
        "id": "sEFIgMVOGCN2"
      },
      "execution_count": null,
      "outputs": []
    },
    {
      "cell_type": "code",
      "source": [
        "predicted_y=model.predict(xtest)\n",
        "predictions = [round(value) for value in predicted_y]"
      ],
      "metadata": {
        "id": "Q9R1Ub0jHGZL"
      },
      "execution_count": null,
      "outputs": []
    },
    {
      "cell_type": "code",
      "source": [
        "testgenre = np.array(testgenre)\n",
        "predictions = np.array(predictions)\n",
        "\n",
        "gn = []\n",
        "for i in testgenre:\n",
        "    gn.append(i[0])\n",
        "print(len(gn))\n",
        "print(predictions.shape)\n",
        "\n",
        "dataset = pd.DataFrame({'track_id': gn, 'genre_id': predictions}, columns=['track_id', 'genre_id'])\n",
        "print(dataset.head())\n",
        "dataset.to_csv(\"res_bayes1.csv\",index=False)"
      ],
      "metadata": {
        "colab": {
          "base_uri": "https://localhost:8080/"
        },
        "id": "_zwfFyNWHKRV",
        "outputId": "53a4996a-5871-4698-a345-08ec1c9e5466"
      },
      "execution_count": null,
      "outputs": [
        {
          "output_type": "stream",
          "name": "stdout",
          "text": [
            "4008\n",
            "(4008,)\n",
            "   track_id  genre_id\n",
            "0        10         8\n",
            "1       141         5\n",
            "2       190         3\n",
            "3       193         3\n",
            "4       194         3\n"
          ]
        }
      ]
    },
    {
      "cell_type": "markdown",
      "source": [
        "## **Decision tree**"
      ],
      "metadata": {
        "id": "NDfIRFI7It0P"
      }
    },
    {
      "cell_type": "code",
      "source": [
        "from sklearn.tree import DecisionTreeClassifier"
      ],
      "metadata": {
        "id": "NdX8MUTrHOKm"
      },
      "execution_count": null,
      "outputs": []
    },
    {
      "cell_type": "code",
      "source": [
        "model = DecisionTreeClassifier()\n",
        "model.fit(xtrain,ytrain)"
      ],
      "metadata": {
        "id": "F_J68GE_IseD"
      },
      "execution_count": null,
      "outputs": []
    },
    {
      "cell_type": "code",
      "source": [
        "predicted_y=model.predict(xtest)\n",
        "predictions = [round(value) for value in predicted_y]"
      ],
      "metadata": {
        "id": "SU9xD7miJwi8"
      },
      "execution_count": null,
      "outputs": []
    },
    {
      "cell_type": "code",
      "source": [
        "testgenre = np.array(testgenre)\n",
        "predictions = np.array(predictions)\n",
        "\n",
        "gn = []\n",
        "for i in testgenre:\n",
        "    gn.append(i[0])\n",
        "print(len(gn))\n",
        "print(predictions.shape)\n",
        "\n",
        "dataset = pd.DataFrame({'track_id': gn, 'genre_id': predictions}, columns=['track_id', 'genre_id'])\n",
        "print(dataset.head())\n",
        "dataset.to_csv(\"res_decisiontree.csv\",index=False)"
      ],
      "metadata": {
        "colab": {
          "base_uri": "https://localhost:8080/"
        },
        "id": "EwR6Bk4yKXdW",
        "outputId": "51b3811e-1ad8-4780-d24c-4bc5ddcf298b"
      },
      "execution_count": null,
      "outputs": [
        {
          "output_type": "stream",
          "name": "stdout",
          "text": [
            "4008\n",
            "(4008,)\n",
            "   track_id  genre_id\n",
            "0        10         8\n",
            "1       141         7\n",
            "2       190         1\n",
            "3       193         5\n",
            "4       194         8\n"
          ]
        }
      ]
    },
    {
      "cell_type": "markdown",
      "source": [
        "## **SVM**"
      ],
      "metadata": {
        "id": "r7DO9axNMJR4"
      }
    },
    {
      "cell_type": "code",
      "source": [
        "from sklearn.pipeline import make_pipeline\n",
        "from sklearn.preprocessing import StandardScaler\n",
        "from sklearn.svm import SVC"
      ],
      "metadata": {
        "id": "VyQ2IXAbKcfs"
      },
      "execution_count": null,
      "outputs": []
    },
    {
      "cell_type": "code",
      "source": [
        "model = make_pipeline(StandardScaler(), SVC(gamma='auto'))\n",
        "model.fit(xtrain,ytrain)"
      ],
      "metadata": {
        "id": "UOtPTDQeOtBC",
        "colab": {
          "base_uri": "https://localhost:8080/"
        },
        "outputId": "e3f8267b-ff62-4d11-84b7-c9638b8033b7"
      },
      "execution_count": null,
      "outputs": [
        {
          "output_type": "execute_result",
          "data": {
            "text/plain": [
              "Pipeline(steps=[('standardscaler', StandardScaler()),\n",
              "                ('svc', SVC(gamma='auto'))])"
            ]
          },
          "metadata": {},
          "execution_count": 17
        }
      ]
    },
    {
      "cell_type": "code",
      "source": [
        "predicted_y=model.predict(xtest)\n",
        "predictions = [round(value) for value in predicted_y]"
      ],
      "metadata": {
        "id": "bp39iiQhO8GP"
      },
      "execution_count": null,
      "outputs": []
    },
    {
      "cell_type": "code",
      "source": [
        "testgenre = np.array(testgenre)\n",
        "predictions = np.array(predictions)\n",
        "\n",
        "gn = []\n",
        "for i in testgenre:\n",
        "    gn.append(i[0])\n",
        "print(len(gn))\n",
        "print(predictions.shape)\n",
        "\n",
        "dataset = pd.DataFrame({'track_id': gn, 'genre_id': predictions}, columns=['track_id', 'genre_id'])\n",
        "print(dataset.head())\n",
        "dataset.to_csv(\"res_svm1.csv\",index=False)"
      ],
      "metadata": {
        "colab": {
          "base_uri": "https://localhost:8080/"
        },
        "id": "2ldRGt2vPA4r",
        "outputId": "d1030ebb-2c13-49c9-dd30-83a0e91e1329"
      },
      "execution_count": null,
      "outputs": [
        {
          "output_type": "stream",
          "name": "stdout",
          "text": [
            "4008\n",
            "(4008,)\n",
            "   track_id  genre_id\n",
            "0        10         8\n",
            "1       141         3\n",
            "2       190         3\n",
            "3       193         3\n",
            "4       194         3\n"
          ]
        }
      ]
    },
    {
      "cell_type": "code",
      "source": [],
      "metadata": {
        "id": "1Q6_eQwMPFIA"
      },
      "execution_count": null,
      "outputs": []
    }
  ]
}